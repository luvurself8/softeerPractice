{
 "cells": [
  {
   "cell_type": "markdown",
   "metadata": {},
   "source": [
    "# 우물안 개구리\n",
    "<a href = \"https://softeer.ai/practice/info.do?idx=1&eid=394\">연습문제로 이동</a>"
   ]
  },
  {
   "cell_type": "code",
   "execution_count": null,
   "metadata": {},
   "outputs": [],
   "source": [
    "import sys\n",
    "\n",
    "# 회원 수 N, 친분관계 M\n",
    "N, M = map (int, sys.stdin.readline().strip().split())\n",
    "\n",
    "# 회원이 들 수 있는 무게\n",
    "weight = list(map(int, sys.stdin.readline().strip().split()))\n",
    "\n",
    "# 전체 회원\n",
    "friends = {i: [] for i in range(1,N+1)}\n",
    "\n",
    "# 친분관계\n",
    "for _ in range(M):\n",
    "    a,b =  map(int, sys.stdin.readline().strip().split())\n",
    "    friends[a].append(weight[b-1])\n",
    "    friends[b].append(weight[a-1])\n",
    "\n",
    "\n",
    "cnt=0\n",
    "\n",
    "for key, val in friends.items():\n",
    "    if val==[]:\n",
    "        cnt +=1\n",
    "    else:\n",
    "        myW = weight[key-1]\n",
    "        if myW > max(val):\n",
    "            cnt +=1\n",
    "\n",
    "print(cnt)"
   ]
  }
 ],
 "metadata": {
  "kernelspec": {
   "display_name": "Python 3",
   "language": "python",
   "name": "python3"
  },
  "language_info": {
   "codemirror_mode": {
    "name": "ipython",
    "version": 3
   },
   "file_extension": ".py",
   "mimetype": "text/x-python",
   "name": "python",
   "nbconvert_exporter": "python",
   "pygments_lexer": "ipython3",
   "version": "3.11.2"
  },
  "orig_nbformat": 4
 },
 "nbformat": 4,
 "nbformat_minor": 2
}
