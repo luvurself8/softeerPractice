{
 "cells": [
  {
   "cell_type": "markdown",
   "metadata": {},
   "source": [
    "# 강의실 배정\n",
    "<a href = \"https://softeer.ai/practice/info.do?idx=1&eid=392\">연습문제로 이동</a>"
   ]
  },
  {
   "cell_type": "code",
   "execution_count": null,
   "metadata": {},
   "outputs": [],
   "source": [
    "import sys\n",
    "# 작업장 수\n",
    "N = int(sys.stdin.readline())\n",
    "\n",
    "timeList = [list(map(int, sys.stdin.readline().strip().split())) for _ in range(N-1)]\n",
    "\n",
    "AN, BN = map(int, sys.stdin.readline().strip().split())\n",
    "\n",
    "\n",
    "# 현재 작업\n",
    "time_a = 0\n",
    "time_b = 0\n",
    "\n",
    "# 이전 작업\n",
    "work_a = 0\n",
    "work_b = 0\n",
    "\n",
    "#N-1번째 작업까지 시간 업데이트\n",
    "for a,b,ab,ba in timeList:\n",
    "\n",
    "    # AA\n",
    "    # BA (B작업장에서 현재작업까지 완료하고 A에 옮겨지는 시간)\n",
    "    time_a = min(work_a+a, work_b+b+ba)\n",
    "\n",
    "    # BB\n",
    "    # AB\n",
    "    time_b = min(work_b+b, work_a+a+ab)\n",
    "\n",
    "    # 이전 시간 업데이트\n",
    "    work_a = time_a\n",
    "    work_b = time_b\n",
    "\n",
    "#마지막 시간 AN or BN을 더해서 최소 시간을 구함\n",
    "print(min(work_a+AN, work_b+BN))\n",
    "\n"
   ]
  }
 ],
 "metadata": {
  "kernelspec": {
   "display_name": "Python 3",
   "language": "python",
   "name": "python3"
  },
  "language_info": {
   "codemirror_mode": {
    "name": "ipython",
    "version": 3
   },
   "file_extension": ".py",
   "mimetype": "text/x-python",
   "name": "python",
   "nbconvert_exporter": "python",
   "pygments_lexer": "ipython3",
   "version": "3.11.2"
  },
  "orig_nbformat": 4
 },
 "nbformat": 4,
 "nbformat_minor": 2
}
