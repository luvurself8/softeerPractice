{
 "cells": [
  {
   "cell_type": "markdown",
   "metadata": {},
   "source": [
    "# 징검다리\n",
    "<a href = \"https://softeer.ai/practice/info.do?idx=1&eid=390\">연습문제로 이동</a>"
   ]
  },
  {
   "cell_type": "code",
   "execution_count": null,
   "metadata": {},
   "outputs": [],
   "source": [
    "import sys\n",
    "# 돌의 개수 N\n",
    "N = int(sys.stdin.readline().strip())\n",
    "\n",
    "#돌 리스트\n",
    "rockList = list(map(int, sys.stdin.readline().strip().split()))\n",
    "\n",
    "# 첫번째부터 N번째 돌까지 밟을 수 있는 최대 횟수를 저장\n",
    "dp = [1] * N\n",
    "\n",
    "# 최대 부분 증가 수열(Longest Increasing Subsequence, LIS) 알고리즘\n",
    "\n",
    "for i in range(1,N): # 0번 돌을 제외한 1번돌부터 N번째까지 탐색\n",
    "    for j in range(i): # i번째 미만의 돌들과 비교\n",
    "        if rockList[i]> rockList[j]: # 만약 i 번째가 더 높다면 i 번째는 밟음\n",
    "            dp[i] = max (dp[i], dp[j]+1)\n",
    "print(max(dp))\n",
    "    \n",
    "\n"
   ]
  }
 ],
 "metadata": {
  "kernelspec": {
   "display_name": "Python 3",
   "language": "python",
   "name": "python3"
  },
  "language_info": {
   "codemirror_mode": {
    "name": "ipython",
    "version": 3
   },
   "file_extension": ".py",
   "mimetype": "text/x-python",
   "name": "python",
   "nbconvert_exporter": "python",
   "pygments_lexer": "ipython3",
   "version": "3.11.2"
  },
  "orig_nbformat": 4
 },
 "nbformat": 4,
 "nbformat_minor": 2
}
