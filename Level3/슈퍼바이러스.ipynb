{
 "cells": [
  {
   "cell_type": "markdown",
   "metadata": {},
   "source": [
    "# 슈퍼바이러스\n",
    "<a href = \"https://softeer.ai/practice/info.do?idx=1&eid=391\">연습문제로 이동</a>"
   ]
  },
  {
   "cell_type": "code",
   "execution_count": null,
   "metadata": {},
   "outputs": [],
   "source": [
    "import sys\n",
    "# 학생 수 N, 구간 수 K\n",
    "N, K = map(int, sys.stdin.readline().strip().split())\n",
    "# 학생 성적\n",
    "score = list(map(int, sys.stdin.readline().strip().split()))\n",
    "#구간\n",
    "for _ in range(K):\n",
    "    A,B = map(int, sys.stdin.readline().strip().split())\n",
    "    answer = 0\n",
    "    cnt = B-A+1 \n",
    "    for i in range(A, B+1):\n",
    "        answer += score[i-1]\n",
    "\n",
    "    answer /=cnt\n",
    "    # 소수점 셋째자리에서 반올림이므로\n",
    "    # 하지만 출력은 .2f\n",
    "    print(f'{round(answer,2):.2f}')\n",
    "\n"
   ]
  }
 ],
 "metadata": {
  "kernelspec": {
   "display_name": "Python 3",
   "language": "python",
   "name": "python3"
  },
  "language_info": {
   "codemirror_mode": {
    "name": "ipython",
    "version": 3
   },
   "file_extension": ".py",
   "mimetype": "text/x-python",
   "name": "python",
   "nbconvert_exporter": "python",
   "pygments_lexer": "ipython3",
   "version": "3.11.2"
  },
  "orig_nbformat": 4
 },
 "nbformat": 4,
 "nbformat_minor": 2
}
