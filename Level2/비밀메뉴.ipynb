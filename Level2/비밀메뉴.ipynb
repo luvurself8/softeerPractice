{
 "cells": [
  {
   "cell_type": "markdown",
   "metadata": {},
   "source": [
    "# [21년 재직자 대회 예선] 비밀 메뉴\n",
    "<a href = \"https://softeer.ai/practice/info.do?idx=1&eid=623\">연습문제로 이동</a>"
   ]
  },
  {
   "cell_type": "code",
   "execution_count": null,
   "metadata": {},
   "outputs": [],
   "source": [
    "import sys\n",
    "M,N,K = map(int, sys.stdin.readline().split())\n",
    "\n",
    "if N< M: print('normal')\n",
    "else:\n",
    "    secretButton = ''.join(sys.stdin.readline().split())\n",
    "    inputButton = ''.join(sys.stdin.readline().split())\n",
    "    if secretButton in inputButton: print('secret')\n",
    "    else : print('normal')"
   ]
  }
 ],
 "metadata": {
  "kernelspec": {
   "display_name": "Python 3",
   "language": "python",
   "name": "python3"
  },
  "language_info": {
   "codemirror_mode": {
    "name": "ipython",
    "version": 3
   },
   "file_extension": ".py",
   "mimetype": "text/x-python",
   "name": "python",
   "nbconvert_exporter": "python",
   "pygments_lexer": "ipython3",
   "version": "3.11.2"
  },
  "orig_nbformat": 4
 },
 "nbformat": 4,
 "nbformat_minor": 2
}
