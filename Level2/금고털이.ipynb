{
 "cells": [
  {
   "cell_type": "markdown",
   "metadata": {},
   "source": [
    "# 장애물 인식 프로그램\n",
    "<a href = \"https://softeer.ai/practice/info.do?idx=1&eid=409&sw_prbl_sbms_sn=233478\">연습문제로 이동</a>"
   ]
  },
  {
   "cell_type": "code",
   "execution_count": null,
   "metadata": {},
   "outputs": [],
   "source": [
    "import sys\n",
    "\n",
    "def search (r, c):\n",
    "    x = [-1,1,0,0]\n",
    "    y = [0,0,-1,1]\n",
    "    cnt = 1\n",
    "    que = [[r,c]]\n",
    "\n",
    "    while(que):\n",
    "        r,c = que.pop()\n",
    "\n",
    "        for i in range(4):\n",
    "            sR = r+x[i]\n",
    "            sC = c+y[i]\n",
    "            if 0<=sR<=N-1 and 0<=sC<=N-1:\n",
    "                if Map[sR][sC] =='1':\n",
    "                    Map[sR][sC] ='0'\n",
    "                    que.append([sR,sC])\n",
    "                    cnt +=1\n",
    "\n",
    "    return cnt\n",
    "\n",
    "#정사각형 만들기\n",
    "N = int(sys.stdin.readline())\n",
    "\n",
    "#블록 초기화\n",
    "block = []\n",
    "\n",
    "# 지도 만들기\n",
    "Map = [list(sys.stdin.readline().strip()) for _ in range(N)]\n",
    "\n",
    "for row in range(N):\n",
    "    for col in range(N):\n",
    "        if Map[row][col] == '1':\n",
    "            Map[row][col] = '0' # 재탐색 되지 않도록 0 삽입\n",
    "            result = search(row,col)\n",
    "            block.append(result)\n",
    "\n",
    "block.sort()\n",
    "print(len(block))\n",
    "for i in block:\n",
    "    print(i)\n",
    "\n",
    "\n"
   ]
  }
 ],
 "metadata": {
  "kernelspec": {
   "display_name": "Python 3",
   "language": "python",
   "name": "python3"
  },
  "language_info": {
   "codemirror_mode": {
    "name": "ipython",
    "version": 3
   },
   "file_extension": ".py",
   "mimetype": "text/x-python",
   "name": "python",
   "nbconvert_exporter": "python",
   "pygments_lexer": "ipython3",
   "version": "3.11.2"
  },
  "orig_nbformat": 4
 },
 "nbformat": 4,
 "nbformat_minor": 2
}
