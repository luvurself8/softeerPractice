{
 "cells": [
  {
   "cell_type": "markdown",
   "metadata": {},
   "source": [
    "# [21년 재직자 대회 예선] 전광판\n",
    "<a href = \"https://softeer.ai/practice/info.do?idx=1&eid=624\">연습문제로 이동</a>"
   ]
  },
  {
   "cell_type": "code",
   "execution_count": null,
   "metadata": {},
   "outputs": [],
   "source": [
    "import sys\n",
    "#테스트 할 케이스 수 = T\n",
    "T = int(sys.stdin.readline())\n",
    "# 0부터 9까지 전구가 들어오는 위치를 1 안들어오는 위치를 0으로 표현 (Ex. 8은 7개의 불이 다 들어옴 : '1111111')\n",
    "num_list = ['1111110','0110000','1101101','1111001','0110011','1011011','1011111','1110010','1111111','1111011']\n",
    "\n",
    "# 케이스마다\n",
    "for _ in range(T):\n",
    "    # 처음 수 A와 다음 수 B를 받음\n",
    "    A, B = sys.stdin.readline().strip().split()\n",
    "\n",
    "    # A와 B의 자리수를 체크하기\n",
    "    len_A = len(A)\n",
    "    len_B = len(B)\n",
    "\n",
    "    # A와 B에 있는 숫자를 자리값으로 변경 문자열로 변경\n",
    "    A = [num_list[int(i)] for i in A]\n",
    "    B = [num_list[int(i)] for i in B]\n",
    "\n",
    "    # A와 B의 자리수가 다를 때, 부족한 자리수만큼 '0000000'(7개 자리 모두에 불이 들어오지 않음)을 채워넣음음\n",
    "    if len_A < len_B:\n",
    "        for _ in range(len_B-len_A):\n",
    "            A.insert(0,'0000000')\n",
    "    if len_B < len_A:\n",
    "        for _ in range(len_A-len_B):\n",
    "            B.insert(0,'0000000')\n",
    "\n",
    "\n",
    "    # 바뀌는 횟수\n",
    "    cnt = 0\n",
    "\n",
    "    # A와 B에 있는 전구표현을 a,b로 읽어옴\n",
    "    for a,b in zip(A,B):\n",
    "        # a,b의 각각의 표현이 달라졌는지 체크하고 달라졌으면 cnt+=1\n",
    "        for ai, bi in zip(a,b):\n",
    "            if ai!=bi:\n",
    "                cnt +=1\n",
    "    #횟수 출력\n",
    "    print(cnt)"
   ]
  }
 ],
 "metadata": {
  "kernelspec": {
   "display_name": "Python 3",
   "language": "python",
   "name": "python3"
  },
  "language_info": {
   "codemirror_mode": {
    "name": "ipython",
    "version": 3
   },
   "file_extension": ".py",
   "mimetype": "text/x-python",
   "name": "python",
   "nbconvert_exporter": "python",
   "pygments_lexer": "ipython3",
   "version": "3.11.2"
  },
  "orig_nbformat": 4
 },
 "nbformat": 4,
 "nbformat_minor": 2
}
