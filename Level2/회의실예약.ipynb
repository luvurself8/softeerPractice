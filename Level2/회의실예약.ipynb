{
 "cells": [
  {
   "cell_type": "markdown",
   "metadata": {},
   "source": [
    "# [21년 재직자 대회 예선] 회의실 예약\n",
    "<a href = \"https://softeer.ai/practice/info.do?idx=1&eid=626\">연습문제로 이동</a>"
   ]
  },
  {
   "cell_type": "code",
   "execution_count": null,
   "metadata": {},
   "outputs": [],
   "source": [
    "import sys\n",
    "#회의실 N개, 예약 M개\n",
    "N, M= map(int, sys.stdin.readline().strip().split())\n",
    "\n",
    "# 예약실과 예약이 찬 시간을 저장하는 딕셔너리\n",
    "RT = dict()\n",
    "\n",
    "# 가능한 시간을 알아보는 함수\n",
    "def check(times):\n",
    "    availableTime = []\n",
    "    # 첫 시작 시간이 9보다 크면 9~ 첫 시작 시간까지 나누기 위해 비교하는 초기값을 9로 함\n",
    "    temp = 9\n",
    "    for start, end in times:\n",
    "        if (temp < start):\n",
    "            availableTime.append([temp,start])\n",
    "        #이후 마지막 시간과 그 다음 시간 첫번째 값을 비교하기 위해 비교값을 마지막 값으로 바꾸어 놓음\n",
    "        #지금 마지막 시간 < 그다음 첫번째 시간 --> 마지막시간~ 그다음 첫시간 구간이 발생\n",
    "        temp = end\n",
    "    # for 문을 다 돌면 temp 에 마지막 시간의 마지막 값이 저장됨. 만약 마지막 시간이 18시가 아니라면 temp ~18까지 구간이 발생함\n",
    "    if temp != 18:\n",
    "        availableTime.append([temp,18])\n",
    "    # 가능한 시간 구간 개수 availability\n",
    "    availability = len(availableTime)\n",
    "    \n",
    "    # availableTime이 없는 경우\n",
    "    if not availableTime: print('Not available')\n",
    "    # availableTime이 있는 경우\n",
    "    else:\n",
    "        print(f'{availability} available:')\n",
    "        for start, end in availableTime:\n",
    "            print(f'{start:02d}-{end}')\n",
    "\n",
    "#회의실 이름 리스트 rooms\n",
    "rooms = [sys.stdin.readline().strip() for _ in range(N)]\n",
    "\n",
    "#회의실 이름을 오름차순 정렬 (추후 오름차순으로 print 하기 위해서)\n",
    "rooms.sort()\n",
    "\n",
    "#오름차순으로 정렬한 대로 딕셔너리 key값을 만듦\n",
    "for room in rooms:     \n",
    "    RT[room] = []\n",
    "\n",
    "# 회의 정보를 리스트로 저장\n",
    "for _ in range(M):\n",
    "    r,s,t = sys.stdin.readline().strip().split() \n",
    "    RT.get(r).append([int(s),int(t)])\n",
    "\n",
    "# 프린트 한 회의실 개수를 세어 주어 마지막에 '-----'가 프린트 되지 않도록 주의\n",
    "cnt = 1\n",
    "total = len(rooms)\n",
    "\n",
    "# 딕셔너리에 담긴 key, value값을 토대로 print 함\n",
    "for key, value in RT.items():\n",
    "    # value가 하나도 없으면 예약이 하나도 되지 않았으므로 온종일 가능함\n",
    "    if value == []: print(f'Room {key}:\\n1 available:\\n09-18')\n",
    "    \n",
    "    else:\n",
    "        # 우선 시간대별로 정렬\n",
    "        value.sort(key=lambda x: x[0])\n",
    "        print(f'Room {key}:')\n",
    "        check(value)\n",
    "    \n",
    "    if cnt<total: \n",
    "        print('-'*5)\n",
    "        cnt +=1\n",
    "\n"
   ]
  }
 ],
 "metadata": {
  "kernelspec": {
   "display_name": "Python 3",
   "language": "python",
   "name": "python3"
  },
  "language_info": {
   "codemirror_mode": {
    "name": "ipython",
    "version": 3
   },
   "file_extension": ".py",
   "mimetype": "text/x-python",
   "name": "python",
   "nbconvert_exporter": "python",
   "pygments_lexer": "ipython3",
   "version": "3.11.2"
  },
  "orig_nbformat": 4
 },
 "nbformat": 4,
 "nbformat_minor": 2
}
