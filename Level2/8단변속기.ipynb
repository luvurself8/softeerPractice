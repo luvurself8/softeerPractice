{
 "cells": [
  {
   "cell_type": "markdown",
   "metadata": {},
   "source": [
    "# 8단 변속기\n",
    "<a href = \"https://softeer.ai/practice/info.do?idx=1&eid=408\">연습문제로 이동</a>"
   ]
  },
  {
   "cell_type": "code",
   "execution_count": null,
   "metadata": {},
   "outputs": [],
   "source": [
    "import sys\n",
    "gear = list(map(int, sys.stdin.readline().split()))\n",
    "\n",
    "if gear ==[1,2,3,4,5,6,7,8]:\n",
    "    print('ascending')\n",
    "elif gear == [8,7,6,5,4,3,2,1]:\n",
    "    print ('descending')\n",
    "else :\n",
    "    print('mixed')\n"
   ]
  }
 ],
 "metadata": {
  "kernelspec": {
   "display_name": "Python 3",
   "language": "python",
   "name": "python3"
  },
  "language_info": {
   "codemirror_mode": {
    "name": "ipython",
    "version": 3
   },
   "file_extension": ".py",
   "mimetype": "text/x-python",
   "name": "python",
   "nbconvert_exporter": "python",
   "pygments_lexer": "ipython3",
   "version": "3.11.2"
  },
  "orig_nbformat": 4
 },
 "nbformat": 4,
 "nbformat_minor": 2
}
