{
 "cells": [
  {
   "cell_type": "markdown",
   "metadata": {},
   "source": [
    "# 지도자동구축\n",
    "<a href = \"https://softeer.ai/practice/info.do?idx=1&eid=413\">연습문제로 이동</a>"
   ]
  },
  {
   "cell_type": "code",
   "execution_count": null,
   "metadata": {},
   "outputs": [],
   "source": [
    "import sys\n",
    "N = int(sys.stdin.readline())\n",
    "#N = 단계\n",
    "#4**N --> 그 단계의 정사각형 개수\n",
    "#(4**N)**(1/2) --> 한 행에 있는 정사각형의 개수\n",
    "# (4**N)**(1/2)+1 --> 한 행에 있는 점의 수\n",
    "# 이를 제곱하면 정사각형의 점의 갯수가 나옴\n",
    "print(int(((4**N)**(1/2)+1)**2))\n"
   ]
  }
 ],
 "metadata": {
  "kernelspec": {
   "display_name": "Python 3",
   "language": "python",
   "name": "python3"
  },
  "language_info": {
   "codemirror_mode": {
    "name": "ipython",
    "version": 3
   },
   "file_extension": ".py",
   "mimetype": "text/x-python",
   "name": "python",
   "nbconvert_exporter": "python",
   "pygments_lexer": "ipython3",
   "version": "3.11.2"
  },
  "orig_nbformat": 4
 },
 "nbformat": 4,
 "nbformat_minor": 2
}
