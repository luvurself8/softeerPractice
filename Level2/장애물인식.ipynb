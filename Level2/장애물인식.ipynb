{
 "cells": [
  {
   "cell_type": "markdown",
   "metadata": {},
   "source": [
    "# 장애물인식\n",
    "<a href = \"https://softeer.ai/practice/info.do?idx=1&eid=395\">연습문제로 이동</a>"
   ]
  },
  {
   "cell_type": "code",
   "execution_count": null,
   "metadata": {},
   "outputs": [],
   "source": [
    "import sys\n",
    "W, N = map(int, sys.stdin.readline().split())\n",
    "\n",
    "k = [list(map(int, sys.stdin.readline().split())) for _ in range(N)]\n",
    "k = sorted(k, key=lambda x: x[1], reverse=True)\n",
    "\n",
    "RemainW = W\n",
    "TotalP =0\n",
    "\n",
    "for w,p in k:\n",
    "    \n",
    "    if w < RemainW:\n",
    "        RemainW -= w\n",
    "        TotalP += w*p\n",
    "    else:\n",
    "        TotalP += RemainW * p\n",
    "        break\n",
    "\n",
    "print(TotalP)\n"
   ]
  }
 ],
 "metadata": {
  "kernelspec": {
   "display_name": "Python 3",
   "language": "python",
   "name": "python3"
  },
  "language_info": {
   "codemirror_mode": {
    "name": "ipython",
    "version": 3
   },
   "file_extension": ".py",
   "mimetype": "text/x-python",
   "name": "python",
   "nbconvert_exporter": "python",
   "pygments_lexer": "ipython3",
   "version": "3.11.2"
  },
  "orig_nbformat": 4
 },
 "nbformat": 4,
 "nbformat_minor": 2
}
