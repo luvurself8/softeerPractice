{
 "cells": [
  {
   "cell_type": "markdown",
   "metadata": {},
   "source": [
    "# 근무 시간\n",
    "<a href = \"https://softeer.ai/practice/info.do?idx=1&eid=990\">연습문제로 이동</a>"
   ]
  },
  {
   "cell_type": "code",
   "execution_count": null,
   "metadata": {},
   "outputs": [],
   "source": [
    "import sys\n",
    "put = sys.stdin.readline \n",
    "\n",
    "result = 0\n",
    "\n",
    "for _ in range(5):\n",
    "    start, end = put().split()\n",
    "    stime, sminute = map(int, start.split(\":\"))\n",
    "    etime, eminute = map (int, end.split(\":\"))\n",
    "    \n",
    "    result += etime *60 + eminute -(stime*60+ sminute)\n",
    "    \n",
    "print(result)"
   ]
  }
 ],
 "metadata": {
  "kernelspec": {
   "display_name": "Python 3",
   "language": "python",
   "name": "python3"
  },
  "language_info": {
   "codemirror_mode": {
    "name": "ipython",
    "version": 3
   },
   "file_extension": ".py",
   "mimetype": "text/x-python",
   "name": "python",
   "nbconvert_exporter": "python",
   "pygments_lexer": "ipython3",
   "version": "3.11.2"
  },
  "orig_nbformat": 4
 },
 "nbformat": 4,
 "nbformat_minor": 2
}
